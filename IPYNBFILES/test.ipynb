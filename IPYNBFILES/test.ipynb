{
 "cells": [
  {
   "cell_type": "code",
   "execution_count": 1,
   "metadata": {},
   "outputs": [],
   "source": [
    "import pandas as pd"
   ]
  },
  {
   "cell_type": "code",
   "execution_count": 6,
   "metadata": {},
   "outputs": [
    {
     "name": "stdout",
     "output_type": "stream",
     "text": [
      "   Customer ID  Gender  Age  Hours at Gym (per week)        Fitness Goal\n",
      "0       221958  Female   27                      7.3        Build muscle\n",
      "1       771155  Female   24                      6.2  Endurance training\n",
      "2       231932    Male   22                      7.4            Fat loss\n",
      "3       465838  Female   23                      6.0        Build muscle\n",
      "4       359178  Female   18                      9.3        Build muscle\n"
     ]
    },
    {
     "data": {
      "text/html": [
       "<div>\n",
       "<style scoped>\n",
       "    .dataframe tbody tr th:only-of-type {\n",
       "        vertical-align: middle;\n",
       "    }\n",
       "\n",
       "    .dataframe tbody tr th {\n",
       "        vertical-align: top;\n",
       "    }\n",
       "\n",
       "    .dataframe thead th {\n",
       "        text-align: right;\n",
       "    }\n",
       "</style>\n",
       "<table border=\"1\" class=\"dataframe\">\n",
       "  <thead>\n",
       "    <tr style=\"text-align: right;\">\n",
       "      <th></th>\n",
       "      <th>Customer ID</th>\n",
       "      <th>Gender</th>\n",
       "      <th>Age</th>\n",
       "      <th>Hours at Gym (per week)</th>\n",
       "      <th>Fitness Goal</th>\n",
       "    </tr>\n",
       "  </thead>\n",
       "  <tbody>\n",
       "    <tr>\n",
       "      <th>0</th>\n",
       "      <td>221958</td>\n",
       "      <td>Female</td>\n",
       "      <td>27</td>\n",
       "      <td>7.3</td>\n",
       "      <td>Build muscle</td>\n",
       "    </tr>\n",
       "    <tr>\n",
       "      <th>1</th>\n",
       "      <td>771155</td>\n",
       "      <td>Female</td>\n",
       "      <td>24</td>\n",
       "      <td>6.2</td>\n",
       "      <td>Endurance training</td>\n",
       "    </tr>\n",
       "    <tr>\n",
       "      <th>2</th>\n",
       "      <td>231932</td>\n",
       "      <td>Male</td>\n",
       "      <td>22</td>\n",
       "      <td>7.4</td>\n",
       "      <td>Fat loss</td>\n",
       "    </tr>\n",
       "    <tr>\n",
       "      <th>3</th>\n",
       "      <td>465838</td>\n",
       "      <td>Female</td>\n",
       "      <td>23</td>\n",
       "      <td>6.0</td>\n",
       "      <td>Build muscle</td>\n",
       "    </tr>\n",
       "    <tr>\n",
       "      <th>4</th>\n",
       "      <td>359178</td>\n",
       "      <td>Female</td>\n",
       "      <td>18</td>\n",
       "      <td>9.3</td>\n",
       "      <td>Build muscle</td>\n",
       "    </tr>\n",
       "  </tbody>\n",
       "</table>\n",
       "</div>"
      ],
      "text/plain": [
       "   Customer ID  Gender  Age  Hours at Gym (per week)        Fitness Goal\n",
       "0       221958  Female   27                      7.3        Build muscle\n",
       "1       771155  Female   24                      6.2  Endurance training\n",
       "2       231932    Male   22                      7.4            Fat loss\n",
       "3       465838  Female   23                      6.0        Build muscle\n",
       "4       359178  Female   18                      9.3        Build muscle"
      ]
     },
     "execution_count": 6,
     "metadata": {},
     "output_type": "execute_result"
    }
   ],
   "source": [
    "df1 = pd.read_csv('data/chefsmeal.csv')\n",
    "df2 = pd.read_csv('data/flexfield_fitness.csv')\n",
    "\n",
    "df1 = df1[['Customer ID',\"Gender\", 'Age', 'Hours at Gym (per week)','Fitness Goal']]\n",
    "df2 = df2[['Customer ID',\"Gender\", 'Age', 'Hours at Gym (per week)','Fitness Goal']]\n",
    "print(df1.head())\n",
    "df2.head()"
   ]
  },
  {
   "cell_type": "code",
   "execution_count": 7,
   "metadata": {},
   "outputs": [
    {
     "data": {
      "text/plain": [
       "True"
      ]
     },
     "execution_count": 7,
     "metadata": {},
     "output_type": "execute_result"
    }
   ],
   "source": [
    "df1.equals(df2)"
   ]
  },
  {
   "cell_type": "code",
   "execution_count": 8,
   "metadata": {},
   "outputs": [
    {
     "name": "stdout",
     "output_type": "stream",
     "text": [
      "   Customer ID  Gender  Age  Hours at Gym (per week)        Fitness Goal\n",
      "0       221958  Female   27                      7.3        Build muscle\n",
      "1       771155  Female   24                      6.2  Endurance training\n",
      "2       231932    Male   22                      7.4            Fat loss\n",
      "3       465838  Female   23                      6.0        Build muscle\n",
      "4       359178  Female   18                      9.3        Build muscle\n"
     ]
    },
    {
     "data": {
      "text/html": [
       "<div>\n",
       "<style scoped>\n",
       "    .dataframe tbody tr th:only-of-type {\n",
       "        vertical-align: middle;\n",
       "    }\n",
       "\n",
       "    .dataframe tbody tr th {\n",
       "        vertical-align: top;\n",
       "    }\n",
       "\n",
       "    .dataframe thead th {\n",
       "        text-align: right;\n",
       "    }\n",
       "</style>\n",
       "<table border=\"1\" class=\"dataframe\">\n",
       "  <thead>\n",
       "    <tr style=\"text-align: right;\">\n",
       "      <th></th>\n",
       "      <th>Customer ID</th>\n",
       "      <th>Gender</th>\n",
       "      <th>Age</th>\n",
       "      <th>Hours at Gym (per week)</th>\n",
       "      <th>Fitness Goal</th>\n",
       "    </tr>\n",
       "  </thead>\n",
       "  <tbody>\n",
       "    <tr>\n",
       "      <th>0</th>\n",
       "      <td>221958</td>\n",
       "      <td>Female</td>\n",
       "      <td>27</td>\n",
       "      <td>7.3</td>\n",
       "      <td>Build muscle</td>\n",
       "    </tr>\n",
       "    <tr>\n",
       "      <th>1</th>\n",
       "      <td>771155</td>\n",
       "      <td>Female</td>\n",
       "      <td>24</td>\n",
       "      <td>6.2</td>\n",
       "      <td>Endurance training</td>\n",
       "    </tr>\n",
       "    <tr>\n",
       "      <th>2</th>\n",
       "      <td>231932</td>\n",
       "      <td>Male</td>\n",
       "      <td>22</td>\n",
       "      <td>7.4</td>\n",
       "      <td>Fat loss</td>\n",
       "    </tr>\n",
       "    <tr>\n",
       "      <th>3</th>\n",
       "      <td>465838</td>\n",
       "      <td>Female</td>\n",
       "      <td>23</td>\n",
       "      <td>6.0</td>\n",
       "      <td>Build muscle</td>\n",
       "    </tr>\n",
       "    <tr>\n",
       "      <th>4</th>\n",
       "      <td>359178</td>\n",
       "      <td>Female</td>\n",
       "      <td>18</td>\n",
       "      <td>9.3</td>\n",
       "      <td>Build muscle</td>\n",
       "    </tr>\n",
       "  </tbody>\n",
       "</table>\n",
       "</div>"
      ],
      "text/plain": [
       "   Customer ID  Gender  Age  Hours at Gym (per week)        Fitness Goal\n",
       "0       221958  Female   27                      7.3        Build muscle\n",
       "1       771155  Female   24                      6.2  Endurance training\n",
       "2       231932    Male   22                      7.4            Fat loss\n",
       "3       465838  Female   23                      6.0        Build muscle\n",
       "4       359178  Female   18                      9.3        Build muscle"
      ]
     },
     "execution_count": 8,
     "metadata": {},
     "output_type": "execute_result"
    }
   ],
   "source": [
    "df1 = pd.read_csv('data/coreboost.csv')\n",
    "df2 = pd.read_csv('data/flexfield_fitness.csv')\n",
    "\n",
    "df1 = df1[['Customer ID',\"Gender\", 'Age', 'Hours at Gym (per week)','Fitness Goal']]\n",
    "df2 = df2[['Customer ID',\"Gender\", 'Age', 'Hours at Gym (per week)','Fitness Goal']]\n",
    "print(df1.head())\n",
    "df2.head()"
   ]
  },
  {
   "cell_type": "code",
   "execution_count": 9,
   "metadata": {},
   "outputs": [
    {
     "data": {
      "text/plain": [
       "True"
      ]
     },
     "execution_count": 9,
     "metadata": {},
     "output_type": "execute_result"
    }
   ],
   "source": [
    "df1.equals(df2)"
   ]
  },
  {
   "cell_type": "code",
   "execution_count": 11,
   "metadata": {},
   "outputs": [
    {
     "name": "stdout",
     "output_type": "stream",
     "text": [
      "   Customer ID  Gender  Age  Hours at Gym (per week)        Fitness Goal\n",
      "0       221958  Female   27                      7.3        Build muscle\n",
      "1       771155  Female   24                      6.2  Endurance training\n",
      "2       231932    Male   22                      7.4            Fat loss\n",
      "3       465838  Female   23                      6.0        Build muscle\n",
      "4       359178  Female   18                      9.3        Build muscle\n"
     ]
    },
    {
     "data": {
      "text/html": [
       "<div>\n",
       "<style scoped>\n",
       "    .dataframe tbody tr th:only-of-type {\n",
       "        vertical-align: middle;\n",
       "    }\n",
       "\n",
       "    .dataframe tbody tr th {\n",
       "        vertical-align: top;\n",
       "    }\n",
       "\n",
       "    .dataframe thead th {\n",
       "        text-align: right;\n",
       "    }\n",
       "</style>\n",
       "<table border=\"1\" class=\"dataframe\">\n",
       "  <thead>\n",
       "    <tr style=\"text-align: right;\">\n",
       "      <th></th>\n",
       "      <th>Customer ID</th>\n",
       "      <th>Gender</th>\n",
       "      <th>Age</th>\n",
       "      <th>Hours at Gym (per week)</th>\n",
       "      <th>Fitness Goal</th>\n",
       "    </tr>\n",
       "  </thead>\n",
       "  <tbody>\n",
       "    <tr>\n",
       "      <th>0</th>\n",
       "      <td>221958</td>\n",
       "      <td>Female</td>\n",
       "      <td>27</td>\n",
       "      <td>7.3</td>\n",
       "      <td>Build muscle</td>\n",
       "    </tr>\n",
       "    <tr>\n",
       "      <th>1</th>\n",
       "      <td>771155</td>\n",
       "      <td>Female</td>\n",
       "      <td>24</td>\n",
       "      <td>6.2</td>\n",
       "      <td>Endurance training</td>\n",
       "    </tr>\n",
       "    <tr>\n",
       "      <th>2</th>\n",
       "      <td>231932</td>\n",
       "      <td>Male</td>\n",
       "      <td>22</td>\n",
       "      <td>7.4</td>\n",
       "      <td>Fat loss</td>\n",
       "    </tr>\n",
       "    <tr>\n",
       "      <th>3</th>\n",
       "      <td>465838</td>\n",
       "      <td>Female</td>\n",
       "      <td>23</td>\n",
       "      <td>6.0</td>\n",
       "      <td>Build muscle</td>\n",
       "    </tr>\n",
       "    <tr>\n",
       "      <th>4</th>\n",
       "      <td>359178</td>\n",
       "      <td>Female</td>\n",
       "      <td>18</td>\n",
       "      <td>9.3</td>\n",
       "      <td>Build muscle</td>\n",
       "    </tr>\n",
       "  </tbody>\n",
       "</table>\n",
       "</div>"
      ],
      "text/plain": [
       "   Customer ID  Gender  Age  Hours at Gym (per week)        Fitness Goal\n",
       "0       221958  Female   27                      7.3        Build muscle\n",
       "1       771155  Female   24                      6.2  Endurance training\n",
       "2       231932    Male   22                      7.4            Fat loss\n",
       "3       465838  Female   23                      6.0        Build muscle\n",
       "4       359178  Female   18                      9.3        Build muscle"
      ]
     },
     "execution_count": 11,
     "metadata": {},
     "output_type": "execute_result"
    }
   ],
   "source": [
    "df1 = pd.read_csv('data/pulsegear.csv')\n",
    "df2 = pd.read_csv('data/flexfield_fitness.csv')\n",
    "\n",
    "df1 = df1[['Customer ID',\"Gender\", 'Age', 'Hours at Gym (per week)','Fitness Goal']]\n",
    "df2 = df2[['Customer ID',\"Gender\", 'Age', 'Hours at Gym (per week)','Fitness Goal']]\n",
    "print(df1.head())\n",
    "df2.head()"
   ]
  },
  {
   "cell_type": "code",
   "execution_count": 12,
   "metadata": {},
   "outputs": [
    {
     "data": {
      "text/plain": [
       "True"
      ]
     },
     "execution_count": 12,
     "metadata": {},
     "output_type": "execute_result"
    }
   ],
   "source": [
    "df1.equals(df2)"
   ]
  },
  {
   "cell_type": "code",
   "execution_count": null,
   "metadata": {},
   "outputs": [],
   "source": []
  }
 ],
 "metadata": {
  "kernelspec": {
   "display_name": "Python 3",
   "language": "python",
   "name": "python3"
  },
  "language_info": {
   "codemirror_mode": {
    "name": "ipython",
    "version": 3
   },
   "file_extension": ".py",
   "mimetype": "text/x-python",
   "name": "python",
   "nbconvert_exporter": "python",
   "pygments_lexer": "ipython3",
   "version": "3.12.6"
  }
 },
 "nbformat": 4,
 "nbformat_minor": 2
}
