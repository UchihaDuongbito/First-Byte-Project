{
 "cells": [
  {
   "cell_type": "code",
   "execution_count": 7,
   "metadata": {},
   "outputs": [],
   "source": [
    "import pandas as pd"
   ]
  },
  {
   "cell_type": "code",
   "execution_count": 2,
   "metadata": {},
   "outputs": [],
   "source": [
    "pulsegear_data = pd.read_csv('data/pulsegear.csv')\n",
    "coreboost_data = pd.read_csv('data/coreboost.csv')\n",
    "chefsmeal_data = pd.read_csv('data/chefsmeal.csv')\n",
    "flexfield_fitness_data = pd.read_csv('data/flexfield_fitness.csv')"
   ]
  },
  {
   "cell_type": "markdown",
   "metadata": {},
   "source": []
  },
  {
   "cell_type": "code",
   "execution_count": 3,
   "metadata": {},
   "outputs": [
    {
     "name": "stdout",
     "output_type": "stream",
     "text": [
      "Missing values in PulseGear dataset:\n",
      "Customer ID                           0\n",
      "Gender                                0\n",
      "Age                                   0\n",
      "Hours at Gym (per week)              65\n",
      "Fitness Goal                          0\n",
      "Average Spend on Apparel ($/year)     0\n",
      "Type of Apparel Purchased            48\n",
      "Primary Apparel Purchase Channel      0\n",
      "dtype: int64\n",
      "-------------------------------\n",
      "Missing values in CoreBoost dataset:\n",
      "Customer ID                              0\n",
      "Gender                                   0\n",
      "Age                                      0\n",
      "Hours at Gym (per week)                 65\n",
      "Fitness Goal                             0\n",
      "Preferred Sports Drink Type             54\n",
      "Average Weekly Consumption (Bottles)     0\n",
      "dtype: int64\n",
      "-------------------------------\n",
      "Missing values in Chef's Meal dataset:\n",
      "Customer ID                      0\n",
      "Gender                           0\n",
      "Age                              0\n",
      "Hours at Gym (per week)         65\n",
      "Fitness Goal                     0\n",
      "Calorie Intake                  39\n",
      "Dietary Preferences             42\n",
      "Average Spend per Meal Order    42\n",
      "dtype: int64\n",
      "-------------------------------\n",
      "Missing values in FlexField Fitness dataset:\n",
      "Customer ID                       0\n",
      "Gender                            0\n",
      "Age                               0\n",
      "Hours at Gym (per week)          65\n",
      "Fitness Goal                      0\n",
      "Gym Membership Length (years)     0\n",
      "Calorie Intake                   39\n",
      "dtype: int64\n"
     ]
    }
   ],
   "source": [
    "# Checking for columns with missing values\n",
    "print(\"Missing values in PulseGear dataset:\")\n",
    "print(pulsegear_data.isna().sum())\n",
    "print(\"-------------------------------\")\n",
    "\n",
    "print(\"Missing values in CoreBoost dataset:\")\n",
    "print(coreboost_data.isna().sum())\n",
    "print(\"-------------------------------\")\n",
    "\n",
    "print(\"Missing values in Chef's Meal dataset:\")\n",
    "print(chefsmeal_data.isna().sum())\n",
    "print(\"-------------------------------\")\n",
    "\n",
    "print(\"Missing values in FlexField Fitness dataset:\")\n",
    "print(flexfield_fitness_data.isna().sum())"
   ]
  },
  {
   "cell_type": "code",
   "execution_count": 4,
   "metadata": {},
   "outputs": [],
   "source": [
    "cleaned_pulsegear_data = pulsegear_data.dropna(subset=['Hours at Gym (per week)', 'Type of Apparel Purchased'])\n",
    "cleaned_coreboost_data = coreboost_data.dropna(subset=['Hours at Gym (per week)', 'Preferred Sports Drink Type'])\n",
    "cleaned_chefsmeal_data = chefsmeal_data.dropna(subset=['Hours at Gym (per week)', 'Calorie Intake', 'Dietary Preferences', 'Average Spend per Meal Order'])\n",
    "cleaned_flexfield_fitness_data = flexfield_fitness_data.dropna(subset=['Hours at Gym (per week)', 'Calorie Intake'])"
   ]
  },
  {
   "cell_type": "code",
   "execution_count": 5,
   "metadata": {},
   "outputs": [
    {
     "name": "stdout",
     "output_type": "stream",
     "text": [
      "Missing values in PulseGear dataset:\n",
      "Customer ID                          0\n",
      "Gender                               0\n",
      "Age                                  0\n",
      "Hours at Gym (per week)              0\n",
      "Fitness Goal                         0\n",
      "Average Spend on Apparel ($/year)    0\n",
      "Type of Apparel Purchased            0\n",
      "Primary Apparel Purchase Channel     0\n",
      "dtype: int64\n",
      "-------------------------------\n",
      "Missing values in CoreBoost dataset:\n",
      "Customer ID                             0\n",
      "Gender                                  0\n",
      "Age                                     0\n",
      "Hours at Gym (per week)                 0\n",
      "Fitness Goal                            0\n",
      "Preferred Sports Drink Type             0\n",
      "Average Weekly Consumption (Bottles)    0\n",
      "dtype: int64\n",
      "-------------------------------\n",
      "Missing values in Chef's Meal dataset:\n",
      "Customer ID                     0\n",
      "Gender                          0\n",
      "Age                             0\n",
      "Hours at Gym (per week)         0\n",
      "Fitness Goal                    0\n",
      "Calorie Intake                  0\n",
      "Dietary Preferences             0\n",
      "Average Spend per Meal Order    0\n",
      "dtype: int64\n",
      "-------------------------------\n",
      "Missing values in FlexField Fitness dataset:\n",
      "Customer ID                      0\n",
      "Gender                           0\n",
      "Age                              0\n",
      "Hours at Gym (per week)          0\n",
      "Fitness Goal                     0\n",
      "Gym Membership Length (years)    0\n",
      "Calorie Intake                   0\n",
      "dtype: int64\n"
     ]
    }
   ],
   "source": [
    "# Double checking if all nas have been removed and data is cleaned\n",
    "print(\"Missing values in PulseGear dataset:\")\n",
    "print(cleaned_pulsegear_data.isna().sum())\n",
    "print(\"-------------------------------\")\n",
    "\n",
    "print(\"Missing values in CoreBoost dataset:\")\n",
    "print(cleaned_coreboost_data.isna().sum())\n",
    "print(\"-------------------------------\")\n",
    "\n",
    "print(\"Missing values in Chef's Meal dataset:\")\n",
    "print(cleaned_chefsmeal_data.isna().sum())\n",
    "print(\"-------------------------------\")\n",
    "\n",
    "print(\"Missing values in FlexField Fitness dataset:\")\n",
    "print(cleaned_flexfield_fitness_data.isna().sum())\n"
   ]
  },
  {
   "cell_type": "markdown",
   "metadata": {},
   "source": [
    "**Now that the data is cleaned, we can save it and start our analysis**"
   ]
  },
  {
   "cell_type": "code",
   "execution_count": 6,
   "metadata": {},
   "outputs": [],
   "source": [
    "cleaned_pulsegear_data.to_csv('data/cleaned_pulsegear.csv', index=False)\n",
    "cleaned_coreboost_data.to_csv('data/cleaned_coreboost.csv', index=False)\n",
    "cleaned_chefsmeal_data.to_csv('data/cleaned_chefsmeal.csv', index=False)\n",
    "cleaned_flexfield_fitness_data.to_csv('data/cleaned_flexfield_fitness.csv', index=False)"
   ]
  }
 ],
 "metadata": {
  "kernelspec": {
   "display_name": "Python 3",
   "language": "python",
   "name": "python3"
  },
  "language_info": {
   "codemirror_mode": {
    "name": "ipython",
    "version": 3
   },
   "file_extension": ".py",
   "mimetype": "text/x-python",
   "name": "python",
   "nbconvert_exporter": "python",
   "pygments_lexer": "ipython3",
   "version": "3.12.6"
  }
 },
 "nbformat": 4,
 "nbformat_minor": 2
}
